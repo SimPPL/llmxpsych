{
 "cells": [
  {
   "cell_type": "code",
   "execution_count": null,
   "metadata": {},
   "outputs": [],
   "source": [
    "from twikit import Client\n",
    "import pandas as pd\n",
    "from tqdm import tqdm\n",
    "import time"
   ]
  },
  {
   "cell_type": "code",
   "execution_count": null,
   "metadata": {},
   "outputs": [],
   "source": [
    "# Initialize client\n",
    "client = Client(language = 'en-US')\n",
    "\n",
    "client.login(\n",
    "    auth_info_1= '******',\n",
    "    auth_info_2='***********',\n",
    "    password='********'\n",
    ")"
   ]
  },
  {
   "cell_type": "code",
   "execution_count": null,
   "metadata": {},
   "outputs": [],
   "source": [
    "df = pd.read_csv('tweetid.csv')\n",
    "\n",
    "results = []\n",
    "\n",
    "for tweet_id in tqdm(df['tweetId']):\n",
    "    try:\n",
    "        tweet = client.get_tweet_by_id(str(tweet_id))\n",
    "        results.append({'tweetId': tweet_id, 'tweet': tweet.text, 'favorites': tweet.favorite_count})\n",
    "    except Exception as e:\n",
    "        continue\n",
    "    finally:\n",
    "        time.sleep(7)  # To avoid API rate limit, adjust this value as needed\n",
    "\n",
    "result_df = pd.DataFrame(results)\n"
   ]
  },
  {
   "cell_type": "code",
   "execution_count": null,
   "metadata": {},
   "outputs": [],
   "source": [
    "result_df.head(10)"
   ]
  },
  {
   "cell_type": "code",
   "execution_count": null,
   "metadata": {},
   "outputs": [],
   "source": []
  }
 ],
 "metadata": {
  "language_info": {
   "name": "python"
  }
 },
 "nbformat": 4,
 "nbformat_minor": 2
}
